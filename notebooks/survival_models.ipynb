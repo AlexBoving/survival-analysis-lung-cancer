{
 "cells": [
  {
   "cell_type": "markdown",
   "metadata": {},
   "source": [
    "# Survival Models for Lung Cancer Prognosis\n",
    "\n",
    "This notebook focuses on building and evaluating survival models to predict the survival duration of lung cancer patients based on their 3D CT scans and meta-data.\n",
    "\n",
    "We will explore three different survival models:\n",
    "\n",
    "- **Survival Random Forest (RSF)**.\n",
    "- **Survival Gradient Boosting (sXGB)**.\n",
    "- **Survival Support Vector Machines (SVM)**.\n",
    "\n",
    "## Objectives\n",
    "\n",
    "- Preprocess the data.\n",
    "- Train and evaluate the models using survival-specific metrics such as the Concordance Index.\n",
    "- Compare model performances and identify the most effective approach for predicting lung cancer survival outcomes.\n",
    "- Leverage the CT scans images together with the metadata in order to increase c-index score.\n",
    "\n",
    "## Dataset Overview\n",
    "\n",
    "- **Meta-data:** Patient clinical information from `./data`.\n",
    "\n",
    "---\n",
    "\n",
    "Let’s start by importing the necessary libraries and loading the data!"
   ]
  },
  {
   "cell_type": "code",
   "execution_count": null,
   "metadata": {},
   "outputs": [],
   "source": [
    "# Preprocessing.\n",
    "import numpy as np\n",
    "import pandas as pd\n",
    "from PIL import Image\n",
    "import os\n",
    "\n",
    "# "
   ]
  },
  {
   "cell_type": "code",
   "execution_count": null,
   "metadata": {},
   "outputs": [],
   "source": [
    "# Import the data.\n",
    "radiomics = pd.read_csv('radiomics.csv')\n",
    "clinical = pd.read_csv('clinical_data.csv')\n",
    "labels = pd.read_csv('labels.csv')"
   ]
  },
  {
   "cell_type": "code",
   "execution_count": null,
   "metadata": {},
   "outputs": [],
   "source": []
  }
 ],
 "metadata": {
  "kernelspec": {
   "display_name": "Python 3",
   "language": "python",
   "name": "python3"
  },
  "language_info": {
   "codemirror_mode": {
    "name": "ipython",
    "version": 3
   },
   "file_extension": ".py",
   "mimetype": "text/x-python",
   "name": "python",
   "nbconvert_exporter": "python",
   "pygments_lexer": "ipython3",
   "version": "3.12.3"
  }
 },
 "nbformat": 4,
 "nbformat_minor": 2
}

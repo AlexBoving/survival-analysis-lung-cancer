{
 "cells": [
  {
   "cell_type": "markdown",
   "metadata": {},
   "source": [
    "# Survival Models for Lung Cancer Prognosis\n",
    "\n",
    "This notebook focuses on building and evaluating survival models to predict the survival duration of lung cancer patients based on their 3D CT scans and meta-data.\n",
    "\n",
    "We will explore three different survival models:\n",
    "\n",
    "- **Random Survival Forest (RSF)**.\n",
    "- **Gradient Boosting (GB)**.\n",
    "- **Survival Support Vector Machines (SVM)**.\n",
    "\n",
    "The goal is to predict recurrence-free survival time. "
   ]
  },
  {
   "cell_type": "markdown",
   "metadata": {},
   "source": [
    "## Random Survival Forest.\n",
    "\n",
    "It is an ensemble of ensemble of tree-based learners. Each individual trees are de-correlated by building each tree on a different bootstrap sample of the original training data and at each node, only evaluate the split criterion for a randomly selected subset of features and thresholds. Predictions are formed by aggregating predicitons of individuals and trees in the ensemble."
   ]
  },
  {
   "cell_type": "code",
   "execution_count": 24,
   "metadata": {},
   "outputs": [],
   "source": [
    "import matplotlib.pyplot as plt\n",
    "import numpy as np\n",
    "import pandas as pd\n",
    "\n",
    "%matplotlib inline\n",
    "\n",
    "from sklearn import set_config\n",
    "from sklearn.model_selection import train_test_split\n",
    "from sklearn.inspection import permutation_importance\n",
    "\n",
    "from sksurv.ensemble import RandomSurvivalForest\n",
    "\n",
    "set_config(display=\"text\")  # displays text representation of estimators"
   ]
  },
  {
   "cell_type": "markdown",
   "metadata": {},
   "source": [
    "We load the data"
   ]
  },
  {
   "cell_type": "code",
   "execution_count": 5,
   "metadata": {},
   "outputs": [],
   "source": [
    "# Load the dataset.\n",
    "data = pd.read_csv(\"../data/meta_data.csv\")\n",
    "\n",
    "X = data.drop(['PatientID', 'SurvivalTime', 'Event'], axis=1)\n",
    "y = np.array([tuple(row) for row in data[['Event', 'SurvivalTime']].values], dtype=[('cens', '?'), ('time', '<f8')])"
   ]
  },
  {
   "cell_type": "markdown",
   "metadata": {},
   "source": [
    "Next the data is split into 75% for training and 25% for testing. So we can determine how well our model generalizes."
   ]
  },
  {
   "cell_type": "code",
   "execution_count": 13,
   "metadata": {},
   "outputs": [],
   "source": [
    "random_state = 20\n",
    "\n",
    "X_train, X_test, y_train, y_test = train_test_split(X, y, test_size=0.25, random_state=random_state)"
   ]
  },
  {
   "cell_type": "markdown",
   "metadata": {},
   "source": [
    "### Training\n",
    "\n",
    "Several split-criterion have been proposed. The most widespread criterion is the one based on the log-rank test. "
   ]
  },
  {
   "cell_type": "code",
   "execution_count": 9,
   "metadata": {},
   "outputs": [
    {
     "data": {
      "text/plain": [
       "RandomSurvivalForest(min_samples_leaf=15, min_samples_split=10,\n",
       "                     n_estimators=1000, n_jobs=-1, random_state=20)"
      ]
     },
     "execution_count": 9,
     "metadata": {},
     "output_type": "execute_result"
    }
   ],
   "source": [
    "rsf = RandomSurvivalForest(n_estimators=1000,\n",
    "                           min_samples_split=10,\n",
    "                           min_samples_leaf=15,\n",
    "                           n_jobs=-1,\n",
    "                           random_state=random_state)\n",
    "rsf.fit(X_train, y_train)"
   ]
  },
  {
   "cell_type": "code",
   "execution_count": 11,
   "metadata": {},
   "outputs": [
    {
     "data": {
      "text/plain": [
       "0.6931818181818182"
      ]
     },
     "execution_count": 11,
     "metadata": {},
     "output_type": "execute_result"
    }
   ],
   "source": [
    "# Check how well the model performs on the test data.\n",
    "rsf.score(X_test, y_test)"
   ]
  },
  {
   "cell_type": "markdown",
   "metadata": {},
   "source": [
    "A value of 0.69 is between a moderate and good discrimination.\n",
    "\n",
    "### Predicting\n",
    "\n",
    "For prediction, a sample is dropped in each tree in the forest until it reaches a terminal node. This data in each terminal is used to non-parametrically estimate the survival and cumulative hazard function using the Kaplan-Meier and Nelson-Aalen estimator, respectively. Furthermore, a risk score can be computed that represents the expected number of events for one particular terminal node. "
   ]
  },
  {
   "cell_type": "code",
   "execution_count": 15,
   "metadata": {},
   "outputs": [
    {
     "data": {
      "text/html": [
       "<div>\n",
       "<style scoped>\n",
       "    .dataframe tbody tr th:only-of-type {\n",
       "        vertical-align: middle;\n",
       "    }\n",
       "\n",
       "    .dataframe tbody tr th {\n",
       "        vertical-align: top;\n",
       "    }\n",
       "\n",
       "    .dataframe thead th {\n",
       "        text-align: right;\n",
       "    }\n",
       "</style>\n",
       "<table border=\"1\" class=\"dataframe\">\n",
       "  <thead>\n",
       "    <tr style=\"text-align: right;\">\n",
       "      <th></th>\n",
       "      <th>Mstage</th>\n",
       "      <th>Nstage</th>\n",
       "      <th>Tstage</th>\n",
       "      <th>age</th>\n",
       "      <th>Histology_Adenocarcinoma</th>\n",
       "      <th>Histology_LargeCell</th>\n",
       "      <th>Histology_Nos</th>\n",
       "      <th>Histology_SquamousCellCarcinoma</th>\n",
       "      <th>Compactness_2</th>\n",
       "      <th>Maximum_Diameter</th>\n",
       "      <th>Sphericity</th>\n",
       "      <th>Surface_Volume_Area</th>\n",
       "      <th>Voxel_Volume</th>\n",
       "    </tr>\n",
       "  </thead>\n",
       "  <tbody>\n",
       "    <tr>\n",
       "      <th>210</th>\n",
       "      <td>0</td>\n",
       "      <td>1</td>\n",
       "      <td>4</td>\n",
       "      <td>74.0808</td>\n",
       "      <td>0</td>\n",
       "      <td>1</td>\n",
       "      <td>0</td>\n",
       "      <td>0</td>\n",
       "      <td>0.649631</td>\n",
       "      <td>13.453624</td>\n",
       "      <td>0.866075</td>\n",
       "      <td>0.651869</td>\n",
       "      <td>640.0</td>\n",
       "    </tr>\n",
       "    <tr>\n",
       "      <th>15</th>\n",
       "      <td>0</td>\n",
       "      <td>0</td>\n",
       "      <td>3</td>\n",
       "      <td>77.0000</td>\n",
       "      <td>0</td>\n",
       "      <td>0</td>\n",
       "      <td>0</td>\n",
       "      <td>1</td>\n",
       "      <td>0.540955</td>\n",
       "      <td>16.763055</td>\n",
       "      <td>0.814805</td>\n",
       "      <td>0.660809</td>\n",
       "      <td>738.0</td>\n",
       "    </tr>\n",
       "    <tr>\n",
       "      <th>124</th>\n",
       "      <td>0</td>\n",
       "      <td>0</td>\n",
       "      <td>1</td>\n",
       "      <td>67.0000</td>\n",
       "      <td>1</td>\n",
       "      <td>0</td>\n",
       "      <td>0</td>\n",
       "      <td>0</td>\n",
       "      <td>0.511728</td>\n",
       "      <td>13.674794</td>\n",
       "      <td>0.799858</td>\n",
       "      <td>0.667874</td>\n",
       "      <td>756.0</td>\n",
       "    </tr>\n",
       "    <tr>\n",
       "      <th>58</th>\n",
       "      <td>0</td>\n",
       "      <td>0</td>\n",
       "      <td>2</td>\n",
       "      <td>78.0000</td>\n",
       "      <td>1</td>\n",
       "      <td>0</td>\n",
       "      <td>0</td>\n",
       "      <td>0</td>\n",
       "      <td>0.207591</td>\n",
       "      <td>98.392073</td>\n",
       "      <td>0.592111</td>\n",
       "      <td>0.143646</td>\n",
       "      <td>183955.0</td>\n",
       "    </tr>\n",
       "    <tr>\n",
       "      <th>150</th>\n",
       "      <td>0</td>\n",
       "      <td>2</td>\n",
       "      <td>3</td>\n",
       "      <td>71.2553</td>\n",
       "      <td>0</td>\n",
       "      <td>0</td>\n",
       "      <td>0</td>\n",
       "      <td>1</td>\n",
       "      <td>0.169012</td>\n",
       "      <td>105.919781</td>\n",
       "      <td>0.552891</td>\n",
       "      <td>0.136771</td>\n",
       "      <td>261684.0</td>\n",
       "    </tr>\n",
       "    <tr>\n",
       "      <th>102</th>\n",
       "      <td>0</td>\n",
       "      <td>0</td>\n",
       "      <td>4</td>\n",
       "      <td>56.8214</td>\n",
       "      <td>0</td>\n",
       "      <td>0</td>\n",
       "      <td>1</td>\n",
       "      <td>0</td>\n",
       "      <td>0.162281</td>\n",
       "      <td>155.438091</td>\n",
       "      <td>0.545451</td>\n",
       "      <td>0.130889</td>\n",
       "      <td>310977.0</td>\n",
       "    </tr>\n",
       "  </tbody>\n",
       "</table>\n",
       "</div>"
      ],
      "text/plain": [
       "     Mstage  Nstage  Tstage      age  Histology_Adenocarcinoma  \\\n",
       "210       0       1       4  74.0808                         0   \n",
       "15        0       0       3  77.0000                         0   \n",
       "124       0       0       1  67.0000                         1   \n",
       "58        0       0       2  78.0000                         1   \n",
       "150       0       2       3  71.2553                         0   \n",
       "102       0       0       4  56.8214                         0   \n",
       "\n",
       "     Histology_LargeCell  Histology_Nos  Histology_SquamousCellCarcinoma  \\\n",
       "210                    1              0                                0   \n",
       "15                     0              0                                1   \n",
       "124                    0              0                                0   \n",
       "58                     0              0                                0   \n",
       "150                    0              0                                1   \n",
       "102                    0              1                                0   \n",
       "\n",
       "     Compactness_2  Maximum_Diameter  Sphericity  Surface_Volume_Area  \\\n",
       "210       0.649631         13.453624    0.866075             0.651869   \n",
       "15        0.540955         16.763055    0.814805             0.660809   \n",
       "124       0.511728         13.674794    0.799858             0.667874   \n",
       "58        0.207591         98.392073    0.592111             0.143646   \n",
       "150       0.169012        105.919781    0.552891             0.136771   \n",
       "102       0.162281        155.438091    0.545451             0.130889   \n",
       "\n",
       "     Voxel_Volume  \n",
       "210         640.0  \n",
       "15          738.0  \n",
       "124         756.0  \n",
       "58       183955.0  \n",
       "150      261684.0  \n",
       "102      310977.0  "
      ]
     },
     "execution_count": 15,
     "metadata": {},
     "output_type": "execute_result"
    }
   ],
   "source": [
    "# Select patients according to size of the tumor and the age of the patient.\n",
    "X_test_sorted = X_test.sort_values(by=['Voxel_Volume', 'age'])\n",
    "X_test_sel = pd.concat((X_test_sorted.head(3), X_test_sorted.tail(3))) # Select 3 patients with smallest and 3 with largest tumor size.\n",
    "\n",
    "X_test_sel"
   ]
  },
  {
   "cell_type": "markdown",
   "metadata": {},
   "source": [
    "The risk for the last three patients is quite a bit higher than that of the first three patients."
   ]
  },
  {
   "cell_type": "code",
   "execution_count": 17,
   "metadata": {},
   "outputs": [
    {
     "data": {
      "text/plain": [
       "0    32.984652\n",
       "1    30.420022\n",
       "2    18.272664\n",
       "3    50.838800\n",
       "4    69.856678\n",
       "5    66.420277\n",
       "dtype: float64"
      ]
     },
     "execution_count": 17,
     "metadata": {},
     "output_type": "execute_result"
    }
   ],
   "source": [
    "pd.Series(rsf.predict(X_test_sel))"
   ]
  },
  {
   "cell_type": "markdown",
   "metadata": {},
   "source": [
    "Let's consider the predicted survival function. Put it simply, the probability of surviving after a specific time t. By visualizing the plot, we can observe that the biggest difference occurs roughly within the 600 days."
   ]
  },
  {
   "cell_type": "code",
   "execution_count": 20,
   "metadata": {},
   "outputs": [
    {
     "data": {
      "image/png": "[encoded data removed]",
      "text/plain": [
       "<Figure size 640x480 with 1 Axes>"
      ]
     },
     "metadata": {},
     "output_type": "display_data"
    }
   ],
   "source": [
    "surv = rsf.predict_survival_function(X_test_sel, return_array=True)\n",
    "\n",
    "for i, s in enumerate(surv):\n",
    "    plt.step(rsf.unique_times_, s, where=\"post\", label=\"Sample %d\" % (i + 1))\n",
    "plt.ylabel(\"Survival probability\")\n",
    "plt.xlabel(\"Time in days\")\n",
    "plt.legend()\n",
    "plt.grid(True)"
   ]
  },
  {
   "cell_type": "markdown",
   "metadata": {},
   "source": [
    "We can also predict the cumulative hazard function."
   ]
  },
  {
   "cell_type": "code",
   "execution_count": 21,
   "metadata": {},
   "outputs": [
    {
     "data": {
      "image/png": "[encoded data removed]",
      "text/plain": [
       "<Figure size 640x480 with 1 Axes>"
      ]
     },
     "metadata": {},
     "output_type": "display_data"
    }
   ],
   "source": [
    "surv = rsf.predict_cumulative_hazard_function(X_test_sel, return_array=True)\n",
    "\n",
    "for i, s in enumerate(surv):\n",
    "    plt.step(rsf.unique_times_, s, where=\"post\", label=str(i))\n",
    "plt.ylabel(\"Cumulative hazard\")\n",
    "plt.xlabel(\"Time in days\")\n",
    "plt.legend()\n",
    "plt.grid(True)"
   ]
  },
  {
   "cell_type": "markdown",
   "metadata": {},
   "source": [
    "### Permutation-based Feature Importance\n",
    "\n",
    "What's missing with the Random Forest is the importances of features. The way it defines 'importnace' is that it relies on the **impurity** for each child node, and defines the importance as the amount of decrease in impurity due to a split. However, for survival-analysis, there is no pre-node impurity measure due to censoring. Instead, we can use permutation to estimate feature importance, which is preferred."
   ]
  },
  {
   "cell_type": "code",
   "execution_count": 25,
   "metadata": {},
   "outputs": [
    {
     "data": {
      "text/html": [
       "<div>\n",
       "<style scoped>\n",
       "    .dataframe tbody tr th:only-of-type {\n",
       "        vertical-align: middle;\n",
       "    }\n",
       "\n",
       "    .dataframe tbody tr th {\n",
       "        vertical-align: top;\n",
       "    }\n",
       "\n",
       "    .dataframe thead th {\n",
       "        text-align: right;\n",
       "    }\n",
       "</style>\n",
       "<table border=\"1\" class=\"dataframe\">\n",
       "  <thead>\n",
       "    <tr style=\"text-align: right;\">\n",
       "      <th></th>\n",
       "      <th>importances_mean</th>\n",
       "      <th>importances_std</th>\n",
       "    </tr>\n",
       "  </thead>\n",
       "  <tbody>\n",
       "    <tr>\n",
       "      <th>Nstage</th>\n",
       "      <td>0.020412</td>\n",
       "      <td>0.018434</td>\n",
       "    </tr>\n",
       "    <tr>\n",
       "      <th>Surface_Volume_Area</th>\n",
       "      <td>0.016919</td>\n",
       "      <td>0.015324</td>\n",
       "    </tr>\n",
       "    <tr>\n",
       "      <th>age</th>\n",
       "      <td>0.014015</td>\n",
       "      <td>0.008085</td>\n",
       "    </tr>\n",
       "    <tr>\n",
       "      <th>Voxel_Volume</th>\n",
       "      <td>0.009049</td>\n",
       "      <td>0.009335</td>\n",
       "    </tr>\n",
       "    <tr>\n",
       "      <th>Tstage</th>\n",
       "      <td>0.001263</td>\n",
       "      <td>0.002557</td>\n",
       "    </tr>\n",
       "    <tr>\n",
       "      <th>Mstage</th>\n",
       "      <td>0.000000</td>\n",
       "      <td>0.000000</td>\n",
       "    </tr>\n",
       "    <tr>\n",
       "      <th>Histology_LargeCell</th>\n",
       "      <td>-0.000715</td>\n",
       "      <td>0.000858</td>\n",
       "    </tr>\n",
       "    <tr>\n",
       "      <th>Histology_SquamousCellCarcinoma</th>\n",
       "      <td>-0.000842</td>\n",
       "      <td>0.001965</td>\n",
       "    </tr>\n",
       "    <tr>\n",
       "      <th>Histology_Nos</th>\n",
       "      <td>-0.001094</td>\n",
       "      <td>0.000963</td>\n",
       "    </tr>\n",
       "    <tr>\n",
       "      <th>Maximum_Diameter</th>\n",
       "      <td>-0.005177</td>\n",
       "      <td>0.013550</td>\n",
       "    </tr>\n",
       "    <tr>\n",
       "      <th>Histology_Adenocarcinoma</th>\n",
       "      <td>-0.006944</td>\n",
       "      <td>0.008292</td>\n",
       "    </tr>\n",
       "    <tr>\n",
       "      <th>Sphericity</th>\n",
       "      <td>-0.007492</td>\n",
       "      <td>0.003702</td>\n",
       "    </tr>\n",
       "    <tr>\n",
       "      <th>Compactness_2</th>\n",
       "      <td>-0.009554</td>\n",
       "      <td>0.002717</td>\n",
       "    </tr>\n",
       "  </tbody>\n",
       "</table>\n",
       "</div>"
      ],
      "text/plain": [
       "                                 importances_mean  importances_std\n",
       "Nstage                                   0.020412         0.018434\n",
       "Surface_Volume_Area                      0.016919         0.015324\n",
       "age                                      0.014015         0.008085\n",
       "Voxel_Volume                             0.009049         0.009335\n",
       "Tstage                                   0.001263         0.002557\n",
       "Mstage                                   0.000000         0.000000\n",
       "Histology_LargeCell                     -0.000715         0.000858\n",
       "Histology_SquamousCellCarcinoma         -0.000842         0.001965\n",
       "Histology_Nos                           -0.001094         0.000963\n",
       "Maximum_Diameter                        -0.005177         0.013550\n",
       "Histology_Adenocarcinoma                -0.006944         0.008292\n",
       "Sphericity                              -0.007492         0.003702\n",
       "Compactness_2                           -0.009554         0.002717"
      ]
     },
     "execution_count": 25,
     "metadata": {},
     "output_type": "execute_result"
    }
   ],
   "source": [
    "result = permutation_importance(rsf, X_test, y_test, n_repeats=15, random_state=random_state)\n",
    "\n",
    "pd.DataFrame(\n",
    "    {\n",
    "        k: result[k]\n",
    "        for k in (\n",
    "            \"importances_mean\",\n",
    "            \"importances_std\",\n",
    "        )\n",
    "    },\n",
    "    index=X_test.columns,\n",
    ").sort_values(by=\"importances_mean\", ascending=False)"
   ]
  },
  {
   "cell_type": "markdown",
   "metadata": {},
   "source": [
    "Result shows that patients resulting at Nstage is by far the most important feature. Meaning that if it's relationship to survival time is removed (by random shuffling), the c-index on the test data drops by an average of 0.077655 points."
   ]
  },
  {
   "cell_type": "markdown",
   "metadata": {},
   "source": [
    "## Gradient Boosted Models"
   ]
  },
  {
   "cell_type": "markdown",
   "metadata": {},
   "source": []
  }
 ],
 "metadata": {
  "kernelspec": {
   "display_name": "Python 3",
   "language": "python",
   "name": "python3"
  },
  "language_info": {
   "codemirror_mode": {
    "name": "ipython",
    "version": 3
   },
   "file_extension": ".py",
   "mimetype": "text/x-python",
   "name": "python",
   "nbconvert_exporter": "python",
   "pygments_lexer": "ipython3",
   "version": "3.12.3"
  }
 },
 "nbformat": 4,
 "nbformat_minor": 2
}
